{
 "cells": [
  {
   "cell_type": "markdown",
   "id": "976a643e-ea84-40d8-ab54-82182aabcfb0",
   "metadata": {
    "tags": []
   },
   "source": [
    "## Variables and Beast Modes used in Custom Timeframe Comparison Visualization in Domo"
   ]
  },
  {
   "cell_type": "markdown",
   "id": "36fa4e00-aa45-49a5-86f5-f3eaa7a9f8b6",
   "metadata": {},
   "source": [
    "#### Variable: Start_Date\n",
    "Set Type to Date and default value to 01/01/2024 (or date of your choosing)\n",
    "Set Minimum Date to 01/01/2024 and Maximum Date to 12/31/2024 \n",
    "\n",
    "#### Variable: End_Date\n",
    "Set Type to Date and default value to 12/31/2024 (or date of your choosing)\n",
    "Set Minimum Date to 01/01/2024 and Maximum Date to 12/31/2024 "
   ]
  },
  {
   "cell_type": "markdown",
   "id": "0f3ef684-5916-49eb-ba86-94d927011969",
   "metadata": {
    "tags": []
   },
   "source": [
    "#### Beast Mode: Date Range\n",
    "CASE WHEN `Date` >= `Start_Date`\n",
    "     AND `Date` <= `End_Date` THEN 'In Range'\n",
    "ELSE  'Not in range' END"
   ]
  },
  {
   "cell_type": "markdown",
   "id": "90840728-f93f-4a3b-af9c-0b82a25ea5f8",
   "metadata": {
    "jp-MarkdownHeadingCollapsed": true,
    "tags": []
   },
   "source": [
    "#### Beast Mode: Previous Date Range \n",
    "CASE\n",
    "    WHEN `Date` > DATE_SUB(`Start_Date`, INTERVAL DATEDIFF(`End_Date`, `Start_Date`) DAY) \n",
    "    AND  `Date` < `Start_Date` THEN 'In Range'\n",
    "    ELSE 'Not in Range'\n",
    "END"
   ]
  },
  {
   "cell_type": "markdown",
   "id": "b203121a-6c03-4a8c-8d5e-e303623ed97e",
   "metadata": {},
   "source": [
    "#### Beast Mode: Current Period\n",
    "CASE WHEN `Date Range` = 'In Range' THEN `orders` ELSE 0 END"
   ]
  },
  {
   "cell_type": "markdown",
   "id": "976b152b-c791-4104-9b5a-f5e28a806f42",
   "metadata": {},
   "source": [
    "#### Beast Mode: Previous Period\n",
    "CASE\n",
    "    WHEN `Date` > DATE_SUB(`Start_Date`, INTERVAL DATEDIFF(`End_Date`, `Start_Date`) DAY) \n",
    "         AND  `Date` < `Start_Date` THEN 'In Range'\n",
    "    ELSE 'Not in Range'\n",
    "END"
   ]
  }
 ],
 "metadata": {
  "kernelspec": {
   "display_name": "Python 3 (ipykernel)",
   "language": "python",
   "name": "python3"
  },
  "language_info": {
   "codemirror_mode": {
    "name": "ipython",
    "version": 3
   },
   "file_extension": ".py",
   "mimetype": "text/x-python",
   "name": "python",
   "nbconvert_exporter": "python",
   "pygments_lexer": "ipython3",
   "version": "3.11.7"
  }
 },
 "nbformat": 4,
 "nbformat_minor": 5
}
